{
 "cells": [
  {
   "cell_type": "code",
   "execution_count": 2,
   "id": "12b3170b",
   "metadata": {},
   "outputs": [],
   "source": [
    "import os\n",
    "import pandas as pd \n",
    "import numpy as np\n",
    "from IPython.display import clear_output\n",
    "from multiprocess import Pool, cpu_count"
   ]
  },
  {
   "cell_type": "code",
   "execution_count": 3,
   "id": "2dc3eee0",
   "metadata": {},
   "outputs": [],
   "source": [
    "setlen=lambda x:len(set(x)) # Calculate length of set of a list."
   ]
  },
  {
   "cell_type": "code",
   "execution_count": 4,
   "id": "a1b58c14",
   "metadata": {},
   "outputs": [],
   "source": [
    "datadir = \"../data/genomic-data\"\n",
    "outputdir = \"../data/processed-data\""
   ]
  },
  {
   "cell_type": "code",
   "execution_count": 5,
   "id": "fe96b42c",
   "metadata": {},
   "outputs": [],
   "source": [
    "df_mutfiles=pd.read_csv(os.path.join(datadir, 'df_mutfiles_specifc.7z'),sep='\\t',dtype=str)\n",
    "df_mutfiles_cystine=pd.read_csv(os.path.join(datadir, 'df_mutfiles_cystine_specific.7z'),sep='\\t',dtype=str)\n",
    "geneset=list(set(df_mutfiles.Hugo_Symbol.values))\n",
    "histcodes=list(set(df_mutfiles.CODE.sort_values()))\n",
    "geneset_cys=list(set(df_mutfiles_cystine.Hugo_Symbol.values))"
   ]
  },
  {
   "cell_type": "code",
   "execution_count": 6,
   "id": "8295495d",
   "metadata": {},
   "outputs": [
    {
     "name": "stdout",
     "output_type": "stream",
     "text": [
      "                     All  70197  70137  70047  70167  90813  70247  95003   \n",
      "ASB3p.Tyr227Cys        0      0      0      0      0      0      0      0  \\\n",
      "TRAPPC9p.Gly1098Cys    0      0      0      0      0      0      0      0   \n",
      "C16ORF88p.Gly344Cys    0      0      0      0      0      0      0      0   \n",
      "DNAH3p.Arg1899Cys      0      0      0      0      0      0      0      0   \n",
      "ZNF280Cp.Arg583Cys     0      0      0      0      0      0      0      0   \n",
      "...                  ...    ...    ...    ...    ...    ...    ...    ...   \n",
      "UNC13Ap.Arg120Cys      0      0      0      0      0      0      0      0   \n",
      "PNLIPRP3p.Trp34Cys     0      0      0      0      0      0      0      0   \n",
      "PLECp.Arg4551Cys       0      0      0      0      0      0      0      0   \n",
      "C3ORF36p.Ser66Cys      0      0      0      0      0      0      0      0   \n",
      "Total                  0      0      0      0      0      0      0      0   \n",
      "\n",
      "                     98353  70347  ...  89633  70277  70537  99453  70157   \n",
      "ASB3p.Tyr227Cys          0      0  ...      0      0      0      0      0  \\\n",
      "TRAPPC9p.Gly1098Cys      0      0  ...      0      0      0      0      0   \n",
      "C16ORF88p.Gly344Cys      0      0  ...      0      0      0      0      0   \n",
      "DNAH3p.Arg1899Cys        0      0  ...      0      0      0      0      0   \n",
      "ZNF280Cp.Arg583Cys       0      0  ...      0      0      0      0      0   \n",
      "...                    ...    ...  ...    ...    ...    ...    ...    ...   \n",
      "UNC13Ap.Arg120Cys        0      0  ...      0      0      0      0      0   \n",
      "PNLIPRP3p.Trp34Cys       0      0  ...      0      0      0      0      0   \n",
      "PLECp.Arg4551Cys         0      0  ...      0      0      0      0      0   \n",
      "C3ORF36p.Ser66Cys        0      0  ...      0      0      0      0      0   \n",
      "Total                    0      0  ...      0      0      0      0      0   \n",
      "\n",
      "                     70327  90853  94403  98613  83173  \n",
      "ASB3p.Tyr227Cys          0      0      0      0      0  \n",
      "TRAPPC9p.Gly1098Cys      0      0      0      0      0  \n",
      "C16ORF88p.Gly344Cys      0      0      0      0      0  \n",
      "DNAH3p.Arg1899Cys        0      0      0      0      0  \n",
      "ZNF280Cp.Arg583Cys       0      0      0      0      0  \n",
      "...                    ...    ...    ...    ...    ...  \n",
      "UNC13Ap.Arg120Cys        0      0      0      0      0  \n",
      "PNLIPRP3p.Trp34Cys       0      0      0      0      0  \n",
      "PLECp.Arg4551Cys         0      0      0      0      0  \n",
      "C3ORF36p.Ser66Cys        0      0      0      0      0  \n",
      "Total                    0      0      0      0      0  \n",
      "\n",
      "[119423 rows x 74 columns]\n"
     ]
    }
   ],
   "source": [
    "#geneset_specific_Cysteine=df_mutfiles_cystine[\"Hugo_Symbol\"]+df_mutfiles_cystine[\"HGVSp\"]\n",
    "#geneset_cys_list=[]\n",
    "#for i in geneset_specific_Cysteine:\n",
    " #   geneset_cys_list.append(i)\n",
    "    \n",
    "geneset_cys_list=list(set(df_mutfiles_cystine[\"Hugo_Symbol\"]+df_mutfiles_cystine[\"HGVSp\"]))    \n",
    "df_Out_cystine=pd.DataFrame(0,columns=['All']+histcodes,index=geneset_cys_list+['Total'],dtype=int)\n",
    "print(df_Out_cystine)\n",
    "def fun_Outdf(inpvec):\n",
    "    df_Out1=inpvec[1]\n",
    "    inpdf=inpvec[0]\n",
    "    for idx,row in inpdf.iterrows():\n",
    "        igene=row.Hugo_Symbol\n",
    "        imutsite=row.HGVSp\n",
    "        icode=row.CODE\n",
    "        \"\"\"\n",
    "        print(\"Values:\")\n",
    "        print(\"igene: \"+str(igene))\n",
    "        print(\"imut: \"+str(imutsite))\n",
    "        print(\"icode: \"+str(icode))\n",
    "        print([igene+'_'+imutsite,icode])\n",
    "        print(df_Out1)\n",
    "        \"\"\"\n",
    "        df_Out1.loc[igene+imutsite,icode]=df_Out1.loc[igene+imutsite,icode]+1\n",
    "        df_Out1.loc[igene+imutsite,'All']=df_Out1.loc[igene+imutsite,'All']+1\n",
    "    return df_Out1\n",
    "df_Out_cystine=fun_Outdf([df_mutfiles_cystine, df_Out_cystine])"
   ]
  },
  {
   "cell_type": "code",
   "execution_count": 7,
   "id": "4407b050",
   "metadata": {},
   "outputs": [
    {
     "data": {
      "text/plain": [
       "(150367, 150367, 150367)"
      ]
     },
     "execution_count": 7,
     "metadata": {},
     "output_type": "execute_result"
    }
   ],
   "source": [
    "#Check correct counts: All these numbers are same if all mutations were counted once\n",
    "#in order to just get cystine, carry out all steps up until this one, but create two copies of df out, one with just cystine and one normal\n",
    "#then we continue with  everything, performing operations on the cystine filtered result, but once done we take the non cystine\n",
    "#filter out indices not in cystine result, and take total and all values from normal to maintain counts. \n",
    "#df_Out.drop(columns='All').sum().sum(),df_Out['All'].sum(),len(df_mutfiles)\n",
    "\n",
    "#PROBLEM: NOT GETTING SAME NUMBERS HERE!! ASK DAVID / GAURAV\n",
    "df_Out_cystine.drop(columns='All').sum().sum(),df_Out_cystine['All'].sum(),len(df_mutfiles_cystine)"
   ]
  },
  {
   "cell_type": "code",
   "execution_count": 9,
   "id": "fb1d9b58",
   "metadata": {},
   "outputs": [],
   "source": [
    "df_mutfiles_cystine['StidSid']=[df_mutfiles_cystine.loc[idx,'STUDY_ID']+'_'+df_mutfiles_cystine.loc[idx,'Tumor_Sample_Barcode'] for idx in df_mutfiles_cystine.index]\n",
    "# Count number of cases 'Total' within each histology : Perform this action after filtering for curated and sequenced samples\n",
    "TotalRow=[setlen(df_mutfiles_cystine.StidSid.values)]+[setlen(df_mutfiles_cystine.StidSid[df_mutfiles_cystine.CODE==ihist].values) for ihist in df_Out_cystine.columns[1:]]\n",
    "df_Out_cystine.loc['Total']=TotalRow"
   ]
  },
  {
   "cell_type": "code",
   "execution_count": 10,
   "id": "b4076e11",
   "metadata": {},
   "outputs": [],
   "source": [
    "for item in ['n/a','NAN','NA','na','nan']:\n",
    "    if item in df_Out_cystine.index:\n",
    "        df_Out_cystine=df_Out_cystine.drop(index=item)"
   ]
  },
  {
   "cell_type": "code",
   "execution_count": 11,
   "id": "77295a76",
   "metadata": {},
   "outputs": [],
   "source": [
    "df_Out_cystine=df_Out_cystine.drop(columns=df_Out_cystine.columns[df_Out_cystine.loc['Total']==0])"
   ]
  },
  {
   "cell_type": "code",
   "execution_count": 13,
   "id": "2b9d5c37",
   "metadata": {},
   "outputs": [],
   "source": [
    "df_chDegen=pd.read_csv(os.path,join(datadir, 'Genelist_ManyChromosomes.xlsx'))# Only MARCH1 MARCH2 and SEPT15 have any real issues. This is very very likely due to excel errors someone made in the past by copying data incorrectly without realizing.\n",
    "degenchlist=df_chDegen[['Hugo_Symbol','Chromosome Locations','Entries_per_Location']].applymap(lambda x:str(x).upper()).values"
   ]
  },
  {
   "cell_type": "code",
   "execution_count": 14,
   "id": "45a0cabb",
   "metadata": {},
   "outputs": [
    {
     "name": "stdout",
     "output_type": "stream",
     "text": [
      "CPU times: user 12.5 s, sys: 271 ms, total: 12.8 s\n",
      "Wall time: 30.6 s\n"
     ]
    }
   ],
   "source": [
    "%%time\n",
    "# Identifying chromosomal degeneracies takes half an hour using 6 cores at >2Ghz. If not updating raw data, uncomment this step to skip next block.\n",
    "def fun_chromosome(inplist):\n",
    "    setlen=lambda x:len(set(x))\n",
    "    df_mutfiles_cystine=inplist[0]\n",
    "    geneset=inplist[1]\n",
    "    return [igene for igene in geneset if setlen(df_mutfiles_cystine[df_mutfiles_cystine.Hugo_Symbol==igene].Chromosome)>1]\n",
    "ncores=cpu_count()-2# number of cores the task can be split into\n",
    "imarkers=[i*int(len(geneset)/ncores) for i in range(ncores+1)]\n",
    "imarkers[-1]=len(geneset)\n",
    "gslist=[[df_mutfiles_cystine,geneset[imarkers[i]:imarkers[i+1]]] for i in range(ncores)]\n",
    "if __name__ == '__main__': #I don't quite understand why this is necessary but it is a part of multiprocessing docs\n",
    "    po=Pool(ncores) # invoke 6 pooled threads/processes. \n",
    "    list_degen=list(po.map(fun_chromosome,gslist)) \n",
    "    po.close() \n",
    "    po.join()\n",
    "degenchlist=[elem for row in list_degen for elem in row]\n",
    "degenchlist=[[igene,set(df_mutfiles_cystine[df_mutfiles_cystine.Hugo_Symbol==igene].Chromosome)] for igene in degenchlist]\n",
    "degenchlist=[[igene,ichlist,[sum(df_mutfiles_cystine[df_mutfiles_cystine.Hugo_Symbol==igene].Chromosome==ich) for ich in ichlist]] for igene,ichlist in degenchlist]\n",
    "# Check for chromosome assignment issues in the genomic dataset. > THey are present but minimal.\n",
    "df_chDegen=pd.DataFrame(degenchlist, columns=['Hugo_Symbol','Chromosome Locations','Entries_per_Location'])\n",
    "df_chDegen.to_csv(os.path.join(datadir, 'Genelist_ManyChromosomes.xlsx'))# Only MARCH1 MARCH2 and SEPT15 have any real issues. This is very very likely due to excel errors someone made in the past by copying data incorrectly without realizing."
   ]
  },
  {
   "cell_type": "code",
   "execution_count": 15,
   "id": "2a1374d3",
   "metadata": {},
   "outputs": [],
   "source": [
    "#Import alternate gene nomenclature file from cbioportal: https://docs.cbioportal.org/3.-cbioportal-maintenance/updating-gene-and-gene_alias-tables\n",
    "#Homo_sapien.gene_info.gz ftp://ftp.ncbi.nih.gov/gene/DATA/GENE_INFO/Mammalia/Homo_sapiens.gene_info.gz\n",
    "dfGeneNames=pd.read_csv(os.path.join(datadir, 'Homo_sapiens_gene_info_GM.txt'),sep='\\t',dtype=str)\n",
    "dfGeneNames=dfGeneNames.astype(str).applymap(lambda x:x.upper())\n",
    "dfGeneNames.Synonyms=[str(row).split('|') for row in dfGeneNames.Synonyms.values]\n",
    "listSynonyms=[elem for row in dfGeneNames.Synonyms.values for elem in row]\n",
    "#print(dfGeneNames[[igene in row for row in dfGeneNames.Synonyms]].Symbol.values[0])\n",
    "def FindGeneName(igene):\n",
    "    retgene=np.nan\n",
    "    if (igene in set(dfGeneNames.Symbol)) or (igene not in set(listSynonyms)) or (igene in [row[0] for row in degenchlist]):\n",
    "        return igene\n",
    "    else:\n",
    "        retgene=dfGeneNames[[igene in row for row in dfGeneNames.Synonyms]].Symbol.values[0]\n",
    "    # proceed to rename if the chromosome no is same.    \n",
    "    chno_retgene=str(dfGeneNames[dfGeneNames.Symbol==retgene].chromosome.values[0])\n",
    "    chno_igene=str(df_mutfiles_cystine[df_mutfiles_cystine.Hugo_Symbol==igene].Chromosome.values[0])# to cover simple renaming situations\n",
    "    return retgene if ((chno_retgene==chno_igene) and (igene in geneset)) else igene"
   ]
  },
  {
   "cell_type": "code",
   "execution_count": 16,
   "id": "feab521e",
   "metadata": {},
   "outputs": [
    {
     "name": "stdout",
     "output_type": "stream",
     "text": [
      "CPU times: user 3min 32s, sys: 10.4 s, total: 3min 42s\n",
      "Wall time: 3min 43s\n"
     ]
    }
   ],
   "source": [
    "%%time\n",
    "dfC=df_Out_cystine[:].copy(deep=True)\n",
    "genesrenamed=[]\n",
    "genesadded=[]\n",
    "#dfGeneNames = dfGeneNames[~dfGeneNames['Symbol'].isin(cystineGeneList)]\n",
    "#retgene=dfGeneNames[[igene in row for row in dfGeneNames.Synonyms]].Symbol.values[0]\n",
    "for igene in dfC.index:\n",
    "    newgene=FindGeneName(igene)\n",
    "    if (newgene != igene):\n",
    "        if (newgene in dfC.index.values):\n",
    "            dfC.loc[newgene]=dfC.loc[newgene].copy()+dfC.loc[igene].copy()\n",
    "            dfC.drop(igene,inplace=True)\n",
    "            genesadded=genesadded+[igene]\n",
    "        else:\n",
    "            dfC.loc[newgene]=dfC.loc[igene].copy()\n",
    "            dfC.drop(igene,inplace=True)\n",
    "            genesrenamed=genesrenamed+[igene]"
   ]
  },
  {
   "cell_type": "code",
   "execution_count": 17,
   "id": "391d3750",
   "metadata": {},
   "outputs": [],
   "source": [
    "idx1=list(dfC.index)\n",
    "idx1=sorted(idx1)\n",
    "idx1.remove('Total')\n",
    "idx1=idx1+['Total']\n",
    "dfC=dfC.loc[idx1]"
   ]
  },
  {
   "cell_type": "code",
   "execution_count": 19,
   "id": "99c4e31d",
   "metadata": {},
   "outputs": [],
   "source": [
    "colist=dfC.columns.sort_values()\n",
    "colist=[colist[-1]]+list(colist[:-1])\n",
    "dfC=dfC[colist]"
   ]
  },
  {
   "cell_type": "code",
   "execution_count": 20,
   "id": "b51254ce",
   "metadata": {},
   "outputs": [
    {
     "name": "stdout",
     "output_type": "stream",
     "text": [
      "Done\n"
     ]
    }
   ],
   "source": [
    "dfC.to_csv(os.path.join(outputdir, 'Genomics_Output_Processed_specific_Cys.txt'),header=True,sep='\\t',index_label='Hugo_Symbol')\n",
    "print(\"Done\")"
   ]
  }
 ],
 "metadata": {
  "kernelspec": {
   "display_name": "Python 3 (ipykernel)",
   "language": "python",
   "name": "python3"
  },
  "language_info": {
   "codemirror_mode": {
    "name": "ipython",
    "version": 3
   },
   "file_extension": ".py",
   "mimetype": "text/x-python",
   "name": "python",
   "nbconvert_exporter": "python",
   "pygments_lexer": "ipython3",
   "version": "3.8.9"
  }
 },
 "nbformat": 4,
 "nbformat_minor": 5
}
